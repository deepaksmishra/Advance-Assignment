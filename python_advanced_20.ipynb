{
  "nbformat": 4,
  "nbformat_minor": 0,
  "metadata": {
    "colab": {
      "name": "python_advanced_20.ipynb",
      "provenance": [],
      "collapsed_sections": []
    },
    "kernelspec": {
      "name": "python3",
      "display_name": "Python 3"
    },
    "language_info": {
      "name": "python"
    }
  },
  "cells": [
    {
      "cell_type": "code",
      "metadata": {
        "id": "0j2PmlSWaJ5t"
      },
      "source": [
        "1. Compare and contrast the float and Decimal classes' benefits and drawbacks.\n",
        "Ans:The points I have been able to find out until now (and able to understand clearly) are as follows :-\n",
        "\n",
        "Floating point -\n",
        "1. Advantage Provides a very large range\n",
        "2. Disadvantage Rounds off large numbers\n",
        "\n",
        "Fixed point -\n",
        "1. Advantage Numbers are represented exactly (Used when 'money' is involved)\n",
        "2. Disadvantage Provide a very limited range"
      ],
      "execution_count": null,
      "outputs": []
    },
    {
      "cell_type": "code",
      "metadata": {
        "id": "RPShJzFpaMlW"
      },
      "source": [
        "2. Decimal('1.200') and Decimal('1.2') are two objects to consider. In what sense are these the same object? Are these just two ways of representing the exact same value, or do they correspond to different internal states?\n",
        "Ans: The rightmost digit is multiplied by 100, the next digit to the left is multiplied by 101, and so on. Each digit to the left has a multiplier that is 10 times the previous digit. Hopefully this is all a review. Some observations:\n",
        "\n",
        "To multiply a number by 10 you can simply shift it to the left by one digit, and fill in the rightmost digit with a 0 (moving the decimal place one to the right). To divide a number by 10, simply shift the number to the right by one digit (moving the decimal place one to the left).\n",
        "To see how many digits a number needs, you can simply take the logarithm (base 10) of the absolute value of the number, and add 1 to it. The integer part of the result is the number of digits. For instance,\n",
        "log 10(33) + 1 = 2.5.\n",
        "The integer part of that is 2, so 2 digits are needed.\n",
        "With n digits, 10n unique numbers (from 0 to 10n-1) can be represented. If n=3, 1000 (=103) numbers can be represented 0-999.\n",
        "Negative numbers are handled easily by simply putting a minus sign (-) in front of the number. This does lead, however, to the somewhat awkward situation where 0=-0. We will avoid this situation with binary representations, but with a little bit of effort.\n",
        " \n",
        "\n",
        "Representing fractions is a simple extension of this idea. To wit,\n",
        "\n",
        "25.43 10 = 2*10 + 5*1 + 4*0.1 + 3*0.01 = 2*101 + 5*100 + 4*10-1+ 3*10-2\n",
        "\n",
        "The only pertinent observations here are:\n",
        "\n",
        "If there are m digits to the right of the decimal point, the smallest number that can be represented is 10-m. For instance if m=4, the smallest number that can be represented is 0.0001=10-4."
      ],
      "execution_count": null,
      "outputs": []
    },
    {
      "cell_type": "code",
      "metadata": {
        "id": "idaAf4-QbBDh"
      },
      "source": [
        "3. What happens if the equality of Decimal('1.200') and Decimal('1.2') is checked?\n",
        "Ans:"
      ],
      "execution_count": null,
      "outputs": []
    },
    {
      "cell_type": "code",
      "metadata": {
        "id": "WNjre6k_bos-"
      },
      "source": [
        "4. Why is it preferable to start a Decimal object with a string rather than a floating-point value?\n",
        "Ans:"
      ],
      "execution_count": null,
      "outputs": []
    },
    {
      "cell_type": "code",
      "metadata": {
        "id": "02DnhJEScO5f"
      },
      "source": [
        "5. In an arithmetic phrase, how simple is it to combine Decimal objects with integers?\n"
      ],
      "execution_count": null,
      "outputs": []
    },
    {
      "cell_type": "code",
      "metadata": {
        "id": "7L5WcZrPcSxH"
      },
      "source": [
        "6. Can Decimal objects and floating-point values be combined easily?\n"
      ],
      "execution_count": null,
      "outputs": []
    },
    {
      "cell_type": "code",
      "metadata": {
        "id": "b2UhF0EzcVYn"
      },
      "source": [
        "7. Using the Fraction class but not the Decimal class, give an example of a quantity that can be expressed with absolute precision.\n"
      ],
      "execution_count": null,
      "outputs": []
    },
    {
      "cell_type": "code",
      "metadata": {
        "id": "nubSDqv8cZv5"
      },
      "source": [
        "8. Describe a quantity that can be accurately expressed by the Decimal or Fraction classes but not by a floating-point value.\n"
      ],
      "execution_count": null,
      "outputs": []
    },
    {
      "cell_type": "code",
      "metadata": {
        "id": "S252w1OGccrn"
      },
      "source": [
        "Q9.Consider the following two fraction objects: Fraction(1, 2) and Fraction(1, 2). (5, 10). Is the internal state of these two objects the same? Why do you think that is?\n"
      ],
      "execution_count": null,
      "outputs": []
    },
    {
      "cell_type": "code",
      "metadata": {
        "id": "e5vG3oQpckwv"
      },
      "source": [
        "Q10. How do the Fraction class and the integer type (int) relate to each other? Containment or inheritance?\n"
      ],
      "execution_count": null,
      "outputs": []
    }
  ]
}