{
 "cells": [
  {
   "cell_type": "code",
   "execution_count": null,
   "metadata": {},
   "outputs": [],
   "source": [
    "Q1. Does assigning a value to a string's indexed character violate Python's string immutability?\n",
    "Ans: No\n",
    "\n",
    "\n",
    "\n",
    "Q2. Does using the += operator to concatenate strings violate Python's string immutability? Why or why not?\n",
    "Ans: Something is mutable only when we are able to change the values held in the memory location without changing the memory location itself.\n",
    "\n",
    "The trick is: If you find that the memory location before and after the change are the same, it is mutable.\n",
    "    \n",
    "\n",
    "Q3. In Python, how many different ways are there to index a character?\n",
    "Ans:In truth, there really isn’t much need to modify strings. You can usually easily accomplish what you want by generating a copy of the original string that has the desired change in place. There are very many ways to do this in Python. Here is one possibility\n",
    "    s = s[:3] + 'x' + s[4:]\n",
    "    \n",
    "\n",
    "Q4. What is the relationship between indexing and slicing?\n",
    "Ans: Indexing: Indexing is used to obtain individual elements. Slicing: Slicing is used to obtain a sequence of elements. Indexing and Slicing can be be done in Python Sequences types like list, string, tuple, range objects\n",
    "\n",
    "\n",
    "\n",
    "Q5. What is an indexed character's exact data type? What is the data form of a slicing-generated substring?\n",
    "Ans: \n",
    "\n",
    "\n",
    "\n",
    "Q6. What is the relationship between string and character \"types\" in Python?\n",
    "Ans: Strings are arrays of bytes representing Unicode characters. However,\n",
    "    Python does not have a character data type, a single character is simply a string with a length of 1. Square brackets can be used to access elements of the string.\n",
    "\n",
    "Q7. Identify at least two operators and one method that allow you to combine one or more smaller strings to create a larger string.\n",
    "Ans: +,* \n",
    "\n",
    "\n",
    "Q8. What is the benefit of first checking the target string with in or not in before using the index method to find a substring?\n",
    "\n",
    "Ans: \n",
    "\n",
    "Q9. Which operators and built-in string methods produce simple Boolean (true/false) results?\n",
    "Ans: Boolean & comparision operator "
   ]
  }
 ],
 "metadata": {
  "kernelspec": {
   "display_name": "Python 3",
   "language": "python",
   "name": "python3"
  },
  "language_info": {
   "codemirror_mode": {
    "name": "ipython",
    "version": 3
   },
   "file_extension": ".py",
   "mimetype": "text/x-python",
   "name": "python",
   "nbconvert_exporter": "python",
   "pygments_lexer": "ipython3",
   "version": "3.8.5"
  }
 },
 "nbformat": 4,
 "nbformat_minor": 4
}
