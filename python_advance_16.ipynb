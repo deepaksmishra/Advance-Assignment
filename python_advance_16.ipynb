{
 "cells": [
  {
   "cell_type": "code",
   "execution_count": null,
   "metadata": {},
   "outputs": [],
   "source": [
    "Q1. What is the benefit of regular expressions?\n",
    "\n",
    "Ans: A Regular Expression is used for identifying a search pattern in a text string.\n",
    "    It also helps in finding out the correctness of the data and even operations such as finding,\n",
    "    replacing and formatting the data is possible using Regular Expressions.\n",
    "\n",
    "\n",
    "\n",
    "Q2. Describe the difference between the effects of \"(ab)c+\" and \"a(bc)+.\" Which of these, if any, is the unqualified pattern \"abc+\"?\n",
    "\n",
    "Ans: \n",
    "\n",
    "Q3. How much do you need to use the following sentence while using regular expressions?\n",
    "import re\n",
    "Ans: In Python, regular expressions are supported by the re module. That means that if you want to start using them in your Python scripts, you have to import this module with the help of import:\n",
    "The re library in Python provides several functions.\n",
    "\n",
    "\n",
    "Q4. Which characters have special significance in square brackets when expressing a range, and under what circumstances?\n",
    "Ans: \n",
    "Square Brackets\n",
    "Inside a character class, only the character class metacharacters (backslash, circumflex anchor and hyphen) have special meaning. You must use a backslash when you use character class metacharacters as literals inside a character class only.\n",
    "\n",
    "\n",
    "Q5. How does compiling a regular-expression object benefit you?\n",
    "\n",
    "Ans: The purpose of the compile method is to compile the regex pattern which will be used for matching later. It's advisable to compile regex when it'll be used several times in your program. Resaving the resulting regular expression object for reuse, which re. compile does, is more efficient\n",
    "\n",
    "\n",
    "\n",
    "Q6. What are some examples of how to use the match object returned by re.match and re.search?\n",
    "\n",
    "Ans: re.search() and re.match() both are functions of re module in python. These functions are very efficient and fast for searching in strings. The function searches for some substring in a string and returns a match object if found, else it returns none.\n",
    "    \n",
    "\n",
    "\n",
    "\n",
    "Q7. What is the difference between using a vertical bar (|) as an alteration and using square brackets as a character set?\n",
    "Ans: \n",
    "    \n",
    "\n",
    "Q8. In regular-expression search patterns, why is it necessary to use the raw-string indicator (r)? In   replacement strings?\n",
    "ans: Because regular expressions are frequently static strings, ... If you use a raw string and you pass in a pattern like r\"\\t\" to the RegEx\n"
   ]
  }
 ],
 "metadata": {
  "kernelspec": {
   "display_name": "Python 3",
   "language": "python",
   "name": "python3"
  },
  "language_info": {
   "codemirror_mode": {
    "name": "ipython",
    "version": 3
   },
   "file_extension": ".py",
   "mimetype": "text/x-python",
   "name": "python",
   "nbconvert_exporter": "python",
   "pygments_lexer": "ipython3",
   "version": "3.7.6"
  }
 },
 "nbformat": 4,
 "nbformat_minor": 4
}
