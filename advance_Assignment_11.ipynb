{
 "cells": [
  {
   "cell_type": "code",
   "execution_count": null,
   "metadata": {},
   "outputs": [],
   "source": [
    "Q1. The term metaprogramming refers to the potential for a program to have knowledge of or manipulate itself. Python supports a form of metaprogramming for classes called metaclasses. Metaclasses are an esoteric OOP concept, lurking behind virtually all Python code. You are using them whether you are aware of it or not.\n",
    "Ans: \n",
    "The term metaprogramming refers to the potential for a program to have knowledge of or manipulate itself.\n",
    "Python supports a form of metaprogramming for classes called metaclasses. \n",
    "Metaclasses are an esoteric OOP concept, lurking behind virtually all Python code. \n",
    "we are using them whether you are aware of it or not.\n",
    "\n",
    "\n",
    "Q2. What is the best way to declare a class's metaclass?\n",
    "Ans: \n",
    " type.__subclasses__() is an example of a method on the type metaclass. You can also define the normal 'magic' methods,\n",
    "like __add__, __iter__ and __getattr__, to implement or change how the class behaves.\n",
    "\n",
    "\n",
    "\n",
    "Q3. How do class decorators overlap with metaclasses for handling classes?\n",
    "Ans: \n",
    "Python supports class decorators. \n",
    "Class decorators work just like function decorators:\n",
    "They’re applied with the @ symbol prefixing a function before the class declaration. \n",
    "The function is expected to modify or re-create the class accordingly and then return it:\n",
    "\n",
    "\n",
    "\n",
    "Q4. How do class decorators overlap with metaclasses for handling instances?\n",
    "ANs: \n",
    "    A class decorator is a simple function that receives a class instance as a parameter and returns either a new class or a modified version of the original class.\n",
    "    \n"
   ]
  }
 ],
 "metadata": {
  "kernelspec": {
   "display_name": "Python 3",
   "language": "python",
   "name": "python3"
  },
  "language_info": {
   "codemirror_mode": {
    "name": "ipython",
    "version": 3
   },
   "file_extension": ".py",
   "mimetype": "text/x-python",
   "name": "python",
   "nbconvert_exporter": "python",
   "pygments_lexer": "ipython3",
   "version": "3.8.5"
  }
 },
 "nbformat": 4,
 "nbformat_minor": 4
}
