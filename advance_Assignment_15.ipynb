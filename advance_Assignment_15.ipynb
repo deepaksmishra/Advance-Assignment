{
 "cells": [
  {
   "cell_type": "code",
   "execution_count": null,
   "metadata": {},
   "outputs": [],
   "source": [
    "What are the new features added in Python 3.8 version?\n",
    "Ans: PEP 572 (Assignment Expressions) – The walrus operator (:=) \n",
    "PEP 570 (Positional only arguments) \n",
    "PEP 590 ( Vectorcall) \n",
    "PEP 574 ( Pickle Protocol 5 with out-of-band data) \n",
    "F-strings now support = (Easy debugging) \n",
    "Improved Typing."
   ]
  },
  {
   "cell_type": "code",
   "execution_count": null,
   "metadata": {},
   "outputs": [],
   "source": [
    "What is monkey patching in Python?\n",
    "Ans; In Python, the term monkey patch only refers to dynamic modifications of a class or module at runtime, which means monkey patch is a piece of Python code that extends\n",
    "or modifies other code at runtime.\n",
    "It is often used to replace or extends a method on the module or class level with a custom implementation.\n"
   ]
  },
  {
   "cell_type": "code",
   "execution_count": null,
   "metadata": {},
   "outputs": [],
   "source": [
    "What is the difference between a shallow copy and deep copy?\n",
    "Ans: A shallow copy constructs a new compound object and then (to the extent possible) inserts references into it to the objects found in the original. A deep copy constructs a new compound object and then, \n",
    "    recursively, inserts copies into it of the objects found in the original\n"
   ]
  },
  {
   "cell_type": "code",
   "execution_count": null,
   "metadata": {},
   "outputs": [],
   "source": [
    "What is the maximum possible length of an identifier?\n",
    "Ans: Identifiers can be of any length.\n"
   ]
  },
  {
   "cell_type": "code",
   "execution_count": null,
   "metadata": {},
   "outputs": [],
   "source": [
    "What is generator comprehension?\n",
    "Ans: A generator comprehension is a single-line specification for defining a generator in Python. It is absolutely essential to learn this syntax in order to write simple and readable code.\n",
    "    Generator comprehensions are not the only method for defining generators in Python."
   ]
  }
 ],
 "metadata": {
  "kernelspec": {
   "display_name": "Python 3",
   "language": "python",
   "name": "python3"
  },
  "language_info": {
   "codemirror_mode": {
    "name": "ipython",
    "version": 3
   },
   "file_extension": ".py",
   "mimetype": "text/x-python",
   "name": "python",
   "nbconvert_exporter": "python",
   "pygments_lexer": "ipython3",
   "version": "3.8.5"
  }
 },
 "nbformat": 4,
 "nbformat_minor": 4
}
