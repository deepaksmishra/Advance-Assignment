{
 "cells": [
  {
   "cell_type": "code",
   "execution_count": null,
   "metadata": {},
   "outputs": [],
   "source": [
    "1. What is the concept of an abstract superclass?\n",
    "Ans: It allows you to create a set of methods that must be created within any child classes built from the abstract class.\n",
    "    A class which contains one or more abstract methods is called an abstract class.\n",
    "    An abstract method is a method that has a declaration but does not have an implementation.\n",
    "\n",
    "\n",
    "\n",
    "2. What happens when a class statement's top level contains a basic assignment statement?\n",
    "Ans: If the object is a class instance and the attribute reference occurs on both pass is a null operation — when it is executed, nothing happens.\n",
    "    is not a top level module, then the name of the top level package that contains \n",
    "    \n",
    "\n",
    "\n",
    "3. Why does a class need to manually call a superclass's __init__ method?\n",
    "Ans: super makes it possible to write classes designed to cooperatively implement methods as part of complex multiple inheritance trees which need not \n",
    "    be known to the class author. \n",
    "    But there's no way to use it to correctly inherit from arbitrary classes that may or may not use super.\n",
    "\n",
    "\n",
    "\n",
    "4. How can you augment, instead of completely replacing, an inherited method?\n",
    "Ans: useing  the Mixin approach and use Multiple inheritance\n",
    "\n",
    "\n",
    "\n",
    "5. How is the local scope of a class different from that of a function?\n",
    "Ans: (variable name) inside a function inside a class: all class functions can access it (how is this different from global (variable name)\n",
    "And since there is no private/protected, everything is public,so everything accessible from inside a class is accessible from outside the class.\n"
   ]
  }
 ],
 "metadata": {
  "kernelspec": {
   "display_name": "Python 3",
   "language": "python",
   "name": "python3"
  },
  "language_info": {
   "codemirror_mode": {
    "name": "ipython",
    "version": 3
   },
   "file_extension": ".py",
   "mimetype": "text/x-python",
   "name": "python",
   "nbconvert_exporter": "python",
   "pygments_lexer": "ipython3",
   "version": "3.8.5"
  }
 },
 "nbformat": 4,
 "nbformat_minor": 4
}
