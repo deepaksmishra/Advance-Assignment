{
 "cells": [
  {
   "cell_type": "code",
   "execution_count": null,
   "metadata": {},
   "outputs": [],
   "source": [
    "Q1. What is the purpose of the try statement?\n",
    "Ans: The try block lets you test a block of code for errors.it has a suspecious code.\n",
    "\n",
    "\n",
    "Q2. What are the two most popular try statement variations?\n",
    "Ans:ValueError , IOError\n",
    "    \n",
    "\n",
    "Q3. What is the purpose of the raise statement?\n",
    "Ans:raise allows you to throw an exception at any time.\n",
    "    assert enables you to verify if a certain condition is met and throw an exception if it isn't.\n",
    "    In the try clause, all statements are executed until an exception is encountered.\n",
    "    except is used to catch and handle the exception(s) that are encountered in the try clause\n",
    "\n",
    "Q4. What does the assert statement do, and what other statement is it like?\n",
    "Ans: The assert keyword is used when debugging code. The assert keyword lets you test if a condition in your code returns True, if not, the program will raise an AssertionError. \n",
    "    You can write a message to be written if the code returns False, check the example below.\n",
    "\n",
    "\n",
    "Q5. What is the purpose of the with/as argument, and what other statement is it like?\n",
    "Ans:with/as tement in Python is used in exception handling to make the code cleaner and much more readable. It simplifies the management of common resources like file streams.\n",
    "    Observe the following code example on how the use of with statement makes code cleaner.\n"
   ]
  }
 ],
 "metadata": {
  "kernelspec": {
   "display_name": "Python 3",
   "language": "python",
   "name": "python3"
  },
  "language_info": {
   "codemirror_mode": {
    "name": "ipython",
    "version": 3
   },
   "file_extension": ".py",
   "mimetype": "text/x-python",
   "name": "python",
   "nbconvert_exporter": "python",
   "pygments_lexer": "ipython3",
   "version": "3.8.5"
  }
 },
 "nbformat": 4,
 "nbformat_minor": 4
}
