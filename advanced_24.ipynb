{
  "nbformat": 4,
  "nbformat_minor": 0,
  "metadata": {
    "colab": {
      "name": "advanced_24.ipynb",
      "provenance": [],
      "collapsed_sections": []
    },
    "kernelspec": {
      "name": "python3",
      "display_name": "Python 3"
    },
    "language_info": {
      "name": "python"
    }
  },
  "cells": [
    {
      "cell_type": "code",
      "metadata": {
        "id": "PAy_uj1UYlpx"
      },
      "source": [
        "Q1. Is it permissible to use several import statements to import the same module? What would the goal be? Can you think of a situation where it would be beneficial?\n",
        "Ans: In Python, you use the import keyword to make code in one module available in another. Imports in Python are important for structuring your code effectively. Using imports properly will \n",
        "make you more productive, allowing you to reuse code while keeping your projects maintainable."
      ],
      "execution_count": null,
      "outputs": []
    },
    {
      "cell_type": "code",
      "metadata": {
        "id": "0U2boTCWZXZK"
      },
      "source": [
        "Q2. What are some of a module's characteristics? (Name at least one.)\n",
        "Ans: A module is a file containing Python definitions and statements. A module can define functions, classes, and variables. \n",
        "A module can also include runnable code. Grouping related code into a module makes the code easier to understand and use."
      ],
      "execution_count": null,
      "outputs": []
    },
    {
      "cell_type": "code",
      "metadata": {
        "id": "Zp8-uTufZjql"
      },
      "source": [
        "Q3. Circular importing, such as when two modules import each other, can lead to dependencies and bugs that aren't visible. How can you go about creating a program that avoids mutual importing?\n",
        "Ans: Imports are pretty straightforward really. Just remember the following:\n",
        "\n",
        "'import' and 'from xxx import yyy' are executable statements. They execute when the running program reaches that line.\n",
        "\n",
        "If a module is not in sys.modules, then an import creates the new module entry in sys.modules and then executes the code in the module. It does not return control to the calling module until the execution has completed.\n",
        "\n",
        "If a module does exist in sys.modules then an import simply returns that module whether or not it has completed executing. That is the reason why cyclic imports may return modules which appear to be partly empty.\n",
        "\n",
        "Finally, the executing script runs in a module named __main__, importing the script under its own name will create a new module unrelated to __main__.\n",
        "\n",
        "Take that lot together and you shouldn't get any surprises when importing modules."
      ],
      "execution_count": null,
      "outputs": []
    },
    {
      "cell_type": "code",
      "metadata": {
        "id": "9nQUox4laPms"
      },
      "source": [
        "Q4. Why is  _ _all_ _ in Python?\n",
        "Ans: Python __all__ is a list of public objects of that module, as interpreted by import *. The __all__ overrides the default of hiding everything that begins with an underscore. The __all__ in Python is a list of strings defining what symbols in a module will be exported when from <module> import * is used on the module."
      ],
      "execution_count": null,
      "outputs": []
    },
    {
      "cell_type": "code",
      "metadata": {
        "id": "515gpcR1ae7U"
      },
      "source": [
        "Q5. In what situation is it useful to refer to the _ _name_ _ attribute or the string '_ _main_ _'?\n",
        "Ans:If the python interpreter is running that module (the source file) as the main program, it sets the special __name__ variable to have a value “__main__”. If this file is being imported from another module, __name__ will be set to the module’s name. Module’s name is available as value to __name__ global variable. \n",
        "\n",
        "A module is a file containing Python definitions and statements. The file name is the module name with the suffix .py appended. "
      ],
      "execution_count": null,
      "outputs": []
    },
    {
      "cell_type": "code",
      "metadata": {
        "id": "n-mncG5ibQeU"
      },
      "source": [
        "Q6. What are some of the benefits of attaching a program counter to the RPN interpreter application, which interprets an RPN script line by line?\n",
        "Ans: Reverse Polish notation (RPN), also known as Polish postfix notation or simply postfix notation, is a mathematical notation in which operators follow their operands, in contrast to Polish notation (PN), in which operators precede their operands. It does not need any parentheses as long as each operator has a fixed number of operands. "
      ],
      "execution_count": null,
      "outputs": []
    },
    {
      "cell_type": "code",
      "metadata": {
        "id": "fWgn0mRdb1K1"
      },
      "source": [
        ""
      ],
      "execution_count": null,
      "outputs": []
    }
  ]
}